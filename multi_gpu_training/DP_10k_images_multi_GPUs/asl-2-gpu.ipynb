{
 "cells": [
  {
   "cell_type": "code",
   "execution_count": 1,
   "id": "3c6b3a22-2255-4a70-9cdd-8287b29b79d7",
   "metadata": {},
   "outputs": [
    {
     "name": "stdout",
     "output_type": "stream",
     "text": [
      "Currently Loaded Modulefiles:\n",
      "  1) discovery/2021-10-06         3) cuda/11.3\n",
      "  2) anaconda3/2021.05(default)   4) nodejs/14.15.4\n"
     ]
    }
   ],
   "source": [
    "# listing modules followed by installation\n",
    "!module list"
   ]
  },
  {
   "cell_type": "code",
   "execution_count": null,
   "id": "04a8be84-8fae-485a-8018-ee21e9978740",
   "metadata": {},
   "outputs": [
    {
     "name": "stdout",
     "output_type": "stream",
     "text": [
      "Defaulting to user installation because normal site-packages is not writeable\n",
      "Collecting torchvision==0.8.0\n",
      "  Using cached torchvision-0.8.0-cp38-cp38-manylinux1_x86_64.whl (11.9 MB)\n",
      "Requirement already satisfied: numpy in /shared/centos7/anaconda3/2021.05/lib/python3.8/site-packages (from torchvision==0.8.0) (1.20.1)\n",
      "Requirement already satisfied: pillow>=4.1.1 in /shared/centos7/anaconda3/2021.05/lib/python3.8/site-packages (from torchvision==0.8.0) (8.2.0)\n",
      "Collecting torch==1.7.0\n",
      "  Using cached torch-1.7.0-cp38-cp38-manylinux1_x86_64.whl (776.8 MB)\n",
      "Requirement already satisfied: typing-extensions in /shared/centos7/anaconda3/2021.05/lib/python3.8/site-packages (from torch==1.7.0->torchvision==0.8.0) (3.7.4.3)\n",
      "Requirement already satisfied: dataclasses in ./.local/lib/python3.8/site-packages (from torch==1.7.0->torchvision==0.8.0) (0.6)\n",
      "Requirement already satisfied: future in /shared/centos7/anaconda3/2021.05/lib/python3.8/site-packages (from torch==1.7.0->torchvision==0.8.0) (0.18.2)\n",
      "Installing collected packages: torch, torchvision\n",
      "  Attempting uninstall: torch\n",
      "    Found existing installation: torch 1.7.1\n",
      "    Uninstalling torch-1.7.1:\n",
      "      Successfully uninstalled torch-1.7.1\n"
     ]
    }
   ],
   "source": [
    "!pip install torchvision==0.8.0"
   ]
  },
  {
   "cell_type": "code",
   "execution_count": 4,
   "id": "b51e5e59-b31a-4c4e-bb1d-eaa3d3b36255",
   "metadata": {},
   "outputs": [
    {
     "name": "stdout",
     "output_type": "stream",
     "text": [
      "Defaulting to user installation because normal site-packages is not writeable\n",
      "Requirement already satisfied: torch==1.7.0 in ./.local/lib/python3.8/site-packages (1.7.0)\n",
      "Requirement already satisfied: numpy in /shared/centos7/anaconda3/2021.05/lib/python3.8/site-packages (from torch==1.7.0) (1.20.1)\n",
      "Requirement already satisfied: typing-extensions in /shared/centos7/anaconda3/2021.05/lib/python3.8/site-packages (from torch==1.7.0) (3.7.4.3)\n",
      "Requirement already satisfied: dataclasses in ./.local/lib/python3.8/site-packages (from torch==1.7.0) (0.6)\n",
      "Requirement already satisfied: future in /shared/centos7/anaconda3/2021.05/lib/python3.8/site-packages (from torch==1.7.0) (0.18.2)\n"
     ]
    }
   ],
   "source": [
    "!pip install torch==1.7.0"
   ]
  },
  {
   "cell_type": "code",
   "execution_count": 5,
   "id": "a83b41b1-f089-42e8-9423-a9c99f85d02f",
   "metadata": {},
   "outputs": [
    {
     "name": "stdout",
     "output_type": "stream",
     "text": [
      "\u001b[33mWARNING: Package(s) not found: torchaudio\u001b[0m\n"
     ]
    }
   ],
   "source": [
    "!pip show torchaudio"
   ]
  },
  {
   "cell_type": "code",
   "execution_count": 3,
   "id": "cf897b2a-e0bc-427b-b9aa-6a4dfc417b5b",
   "metadata": {},
   "outputs": [],
   "source": [
    "# importing libraries\n",
    "import torch\n",
    "from torchvision import models, transforms, datasets\n",
    "import glob\n",
    "from torch import nn\n",
    "import matplotlib.pyplot as plt\n",
    "from time import time\n",
    "from tqdm import tqdm"
   ]
  },
  {
   "cell_type": "code",
   "execution_count": 4,
   "id": "84df9e79-0997-465e-b206-a0ed633d39fd",
   "metadata": {},
   "outputs": [],
   "source": [
    "# function to prepare dataset\n",
    "def prepare_dataset(resize_shape,path,samples):\n",
    "\n",
    "  train_transforms = transforms.Compose([\n",
    "      transforms.Resize(resize_shape),\n",
    "      transforms.ToTensor(),\n",
    "      transforms.Normalize(mean=[0.485, 0.456, 0.406],\n",
    "                          std=[0.229, 0.224, 0.225])])\n",
    "\n",
    "  test_transforms = transforms.Compose([\n",
    "      transforms.Resize(resize_shape),\n",
    "      transforms.ToTensor(),\n",
    "      transforms.Normalize(mean=[0.485, 0.456, 0.406],\n",
    "                          std=[0.229, 0.224, 0.225])])\n",
    "  train_dataset = datasets.ImageFolder(train_data_path, transform=train_transforms)\n",
    "  val_dataset = datasets.ImageFolder(train_data_path, transform=train_transforms)\n",
    "  torch.manual_seed(1)\n",
    "\n",
    "  num_train_samples = samples\n",
    "\n",
    "  val_split = 0.2\n",
    "  split = int(num_train_samples * val_split)\n",
    "  indices = torch.randperm(num_train_samples)\n",
    "\n",
    "\n",
    "  train_subset = torch.utils.data.Subset(train_dataset, indices[split:])\n",
    "  val_subset = torch.utils.data.Subset(val_dataset, indices[:split])\n",
    "\n",
    "  print('Total images in train dataset',len(train_subset))\n",
    "  print('Total images in test dataset',len(val_subset))\n",
    "  return train_subset,val_subset\n"
   ]
  },
  {
   "cell_type": "code",
   "execution_count": 5,
   "id": "10be4730-5511-46c5-a05f-07133b313356",
   "metadata": {},
   "outputs": [],
   "source": [
    "# function to initialize and load the model\n",
    "def model_loader(batch_size,train_subset,val_subset,model):\n",
    "  batch_size = batch_size\n",
    "\n",
    "  train_dataloader = torch.utils.data.DataLoader(\n",
    "      dataset=train_subset, \n",
    "      batch_size=batch_size,\n",
    "      shuffle=True)\n",
    "\n",
    "  val_dataloader = torch.utils.data.DataLoader(\n",
    "      dataset=val_subset,\n",
    "      batch_size=batch_size,\n",
    "      shuffle=False)\n",
    "  classes = train_dataloader.dataset.dataset.classes\n",
    "  resnet = model\n",
    "  resnet= nn.DataParallel(resnet)\n",
    "  for param in resnet.parameters():\n",
    "    param.requires_grad = False\n",
    "  in_features = resnet.fc.in_features\n",
    "  fc = nn.Linear(in_features=in_features, out_features=len(classes))\n",
    "  resnet.fc = fc\n",
    "  params_to_update = []\n",
    "  for name, param in resnet.named_parameters():\n",
    "    if param.requires_grad == True:\n",
    "        params_to_update.append(param)\n",
    "\n",
    "        \n",
    "  criterion = nn.CrossEntropyLoss()\n",
    "  optimizer = torch.optim.Adam(params_to_update, lr=0.001)\n",
    "  return resnet,criterion,optimizer,train_dataloader,val_dataloader"
   ]
  },
  {
   "cell_type": "code",
   "execution_count": 6,
   "id": "4c385de0-faa9-4976-ae82-ceedc334f28d",
   "metadata": {},
   "outputs": [],
   "source": [
    "# function to train the model\n",
    "def train(model,criterion,optimizer,train_dataloader,test_dataloader,print_every,num_epoch,device):\n",
    "    steps = 0\n",
    "    train_losses, val_losses = [], []\n",
    "    train_accuracy,val_accuracy=[], []\n",
    "    model.to(device)\n",
    "    for epoch in tqdm(range(num_epoch)):\n",
    "        running_loss = 0\n",
    "        correct_train = 0\n",
    "        total_train = 0\n",
    "        start_time = time()\n",
    "        iter_time = time()\n",
    "        \n",
    "        model.train()\n",
    "        for i, (images, labels) in enumerate(train_dataloader):\n",
    "            steps += 1\n",
    "            images = images.to(device)\n",
    "            labels = labels.to(device)\n",
    "\n",
    "            # Forward pass\n",
    "            output = model(images)\n",
    "            loss = criterion(output, labels)\n",
    "\n",
    "            correct_train += (torch.max(output, dim=1)[1] == labels).sum()\n",
    "            total_train += labels.size(0)\n",
    "            optimizer.zero_grad()\n",
    "            loss.backward()\n",
    "            optimizer.step()\n",
    "\n",
    "            running_loss += loss.item()\n",
    "\n",
    "            # Logging\n",
    "            if steps % print_every == 0:\n",
    "                print(f'Epoch [{epoch + 1}]/[{num_epoch}]. Batch [{i + 1}]/[{len(train_dataloader)}].', end=' ')\n",
    "                print(f'Train loss {running_loss / steps:.3f}.', end=' ')\n",
    "                print(f'Train acc {correct_train / total_train * 100:.3f}.', end=' ')\n",
    "                with torch.no_grad():\n",
    "                    model.eval()\n",
    "                    correct_val, total_val = 0, 0\n",
    "                    val_loss = 0\n",
    "                    for images, labels in test_dataloader:\n",
    "                        images = images.to(device)\n",
    "                        labels = labels.to(device)\n",
    "                        output = model(images)\n",
    "                        loss = criterion(output, labels)\n",
    "                        val_loss += loss.item()\n",
    "                        correct_val += (torch.max(output, dim=1)[1] == labels).sum()\n",
    "                        total_val += labels.size(0)\n",
    "\n",
    "                print(f'Val loss {val_loss / len(test_dataloader):.3f}. Val acc {correct_val / total_val * 100:.3f}.', end=' ')\n",
    "                print(f'Took {time() - iter_time:.3f} seconds')\n",
    "                iter_time = time()\n",
    "              \n",
    "                train_losses.append(running_loss / total_train)\n",
    "                val_losses.append(val_loss / total_val)\n",
    "                train_accuracy.append((correct_train / total_train) * 100)\n",
    "                val_accuracy.append((correct_val / total_val) * 100)\n",
    "\n",
    "\n",
    "\n",
    "        #print(f'Epoch took {time() - start_time}') \n",
    "        #torch.save(model, f'checkpoint_{correct_val / total_val * 100:.2f}')\n",
    "        \n",
    "    return model, train_losses, val_losses,train_accuracy,val_accuracy"
   ]
  },
  {
   "cell_type": "code",
   "execution_count": 7,
   "id": "a3966ff0-7408-408f-b9b0-dcec29040911",
   "metadata": {},
   "outputs": [
    {
     "data": {
      "text/plain": [
       "'/home/jaiswal.abh'"
      ]
     },
     "execution_count": 7,
     "metadata": {},
     "output_type": "execute_result"
    }
   ],
   "source": [
    "import os\n",
    "os.getcwd()"
   ]
  },
  {
   "cell_type": "code",
   "execution_count": 8,
   "id": "0b05dd43-0df7-4ead-a0c3-0a45a9578f00",
   "metadata": {},
   "outputs": [
    {
     "data": {
      "text/plain": [
       "'cuda'"
      ]
     },
     "execution_count": 8,
     "metadata": {},
     "output_type": "execute_result"
    }
   ],
   "source": [
    "# checking the device type\n",
    "device = 'cuda' if torch.cuda.is_available() else 'cpu'\n",
    "device"
   ]
  },
  {
   "cell_type": "code",
   "execution_count": 9,
   "id": "687fb6d1-9e17-4d89-a2e4-b1300678d848",
   "metadata": {},
   "outputs": [
    {
     "data": {
      "text/plain": [
       "2"
      ]
     },
     "execution_count": 9,
     "metadata": {},
     "output_type": "execute_result"
    }
   ],
   "source": [
    "# checking device count before training\n",
    "torch.cuda.device_count()"
   ]
  },
  {
   "cell_type": "code",
   "execution_count": 10,
   "id": "daa21857-f0e6-4b6c-812b-19c5eb6bdd20",
   "metadata": {},
   "outputs": [
    {
     "name": "stdout",
     "output_type": "stream",
     "text": [
      "Total images in train dataset 8000\n",
      "Total images in test dataset 2000\n"
     ]
    },
    {
     "name": "stderr",
     "output_type": "stream",
     "text": [
      "  0%|          | 0/5 [00:00<?, ?it/s]"
     ]
    },
    {
     "name": "stdout",
     "output_type": "stream",
     "text": [
      "Epoch [1]/[5]. Batch [150]/[250]. Train loss 0.533. Train acc 81.875. Val loss 0.226. Val acc 93.550. Took 12.690 seconds\n"
     ]
    },
    {
     "name": "stderr",
     "output_type": "stream",
     "text": [
      " 20%|██        | 1/5 [00:44<02:57, 44.50s/it]"
     ]
    },
    {
     "name": "stdout",
     "output_type": "stream",
     "text": [
      "Epoch [2]/[5]. Batch [50]/[250]. Train loss 0.036. Train acc 93.625. Val loss 0.144. Val acc 96.350. Took 6.331 seconds\n",
      "Epoch [2]/[5]. Batch [200]/[250]. Train loss 0.066. Train acc 96.094. Val loss 0.112. Val acc 97.400. Took 11.585 seconds\n"
     ]
    },
    {
     "name": "stderr",
     "output_type": "stream",
     "text": [
      " 40%|████      | 2/5 [01:05<01:31, 30.56s/it]"
     ]
    },
    {
     "name": "stdout",
     "output_type": "stream",
     "text": [
      "Epoch [3]/[5]. Batch [100]/[250]. Train loss 0.027. Train acc 94.719. Val loss 0.101. Val acc 97.350. Took 8.314 seconds\n",
      "Epoch [3]/[5]. Batch [250]/[250]. Train loss 0.039. Train acc 96.575. "
     ]
    },
    {
     "name": "stderr",
     "output_type": "stream",
     "text": [
      " 60%|██████    | 3/5 [01:24<00:50, 25.44s/it]"
     ]
    },
    {
     "name": "stdout",
     "output_type": "stream",
     "text": [
      "Val loss 0.082. Val acc 97.850. Took 11.031 seconds\n",
      "Epoch [4]/[5]. Batch [150]/[250]. Train loss 0.024. Train acc 94.938. Val loss 0.074. Val acc 97.950. Took 11.360 seconds\n"
     ]
    },
    {
     "name": "stderr",
     "output_type": "stream",
     "text": [
      " 80%|████████  | 4/5 [01:41<00:21, 21.98s/it]"
     ]
    },
    {
     "name": "stdout",
     "output_type": "stream",
     "text": [
      "Epoch [5]/[5]. Batch [50]/[250]. Train loss 0.005. Train acc 96.812. Val loss 0.074. Val acc 97.900. Took 5.705 seconds\n",
      "Epoch [5]/[5]. Batch [200]/[250]. Train loss 0.011. Train acc 98.344. Val loss 0.058. Val acc 98.500. Took 11.292 seconds\n"
     ]
    },
    {
     "name": "stderr",
     "output_type": "stream",
     "text": [
      "100%|██████████| 5/5 [02:00<00:00, 24.18s/it]"
     ]
    },
    {
     "name": "stdout",
     "output_type": "stream",
     "text": [
      "On Device cuda\n",
      "Time taken 124.12458777427673\n"
     ]
    },
    {
     "name": "stderr",
     "output_type": "stream",
     "text": [
      "\n"
     ]
    }
   ],
   "source": [
    "# main function\n",
    "if __name__=='__main__':\n",
    "  train_data_path='asl_alphabet_train/asl_alphabet_train'\n",
    "  train_subset,val_subset=prepare_dataset(64,train_data_path,10000)\n",
    "  model=models.resnet50(pretrained=True)\n",
    "  resnet,criterion,optimizer,train_dataloader,val_dataloader=model_loader(32,train_subset,val_subset,model)\n",
    "  device = 'cuda' if torch.cuda.is_available() else 'cpu'\n",
    "  #device='cpu'\n",
    "  start=time()\n",
    "  final_model,train_losses,val_losses,train_accuracy,val_accuracy=train(resnet,criterion,optimizer,train_dataloader,val_dataloader,150,5,device)\n",
    "  end=time()\n",
    "  print('On Device',device)\n",
    "  print('Time taken',end-start)"
   ]
  },
  {
   "cell_type": "code",
   "execution_count": 11,
   "id": "4a28e9e2-1acf-4b90-8ad4-3dd74391d7e0",
   "metadata": {},
   "outputs": [],
   "source": [
    "# importing libraries\n",
    "import torch\n",
    "import torch.nn as nn\n",
    "from torch.utils.data import DataLoader\n",
    "\n",
    "from torchvision import models\n",
    "import torchvision.utils\n",
    "import torchvision.datasets as dsets\n",
    "import torchvision.transforms as transforms\n",
    "\n",
    "import numpy as np"
   ]
  },
  {
   "cell_type": "code",
   "execution_count": 12,
   "id": "a93c0119-e328-4e21-981b-a15928159517",
   "metadata": {},
   "outputs": [],
   "source": [
    "import matplotlib.pyplot as plt\n",
    "%matplotlib inline"
   ]
  },
  {
   "cell_type": "code",
   "execution_count": 13,
   "id": "893d7bcb-aa54-4be2-aa2b-dc1a9cd1420d",
   "metadata": {},
   "outputs": [
    {
     "name": "stdout",
     "output_type": "stream",
     "text": [
      "Total images in train dataset 8000\n",
      "Total images in test dataset 2000\n"
     ]
    }
   ],
   "source": [
    "# transforming and normalizing the image data\n",
    "train_transform = transforms.Compose([\n",
    "    transforms.RandomResizedCrop(299),\n",
    "    transforms.RandomHorizontalFlip(),\n",
    "    transforms.ToTensor(), # ToTensor : [0, 255] -> [0, 1]\n",
    "    transforms.Normalize(mean=[0.485, 0.456, 0.406],\n",
    "                         std=[0.229, 0.224, 0.225])\n",
    "])\n",
    "\n",
    "test_transform = transforms.Compose([\n",
    "    transforms.Resize((299, 299)),\n",
    "    transforms.ToTensor(), # ToTensor : [0, 255] -> [0, 1]\n",
    "    transforms.Normalize(mean=[0.485, 0.456, 0.406],\n",
    "                         std=[0.229, 0.224, 0.225])\n",
    "])\n",
    "\n",
    "train_data = dsets.ImageFolder('asl_alphabet_train/asl_alphabet_train/', train_transform)\n",
    "val_dataset = datasets.ImageFolder('asl_alphabet_train/asl_alphabet_train/', transform=train_transform)\n",
    "torch.manual_seed(1)\n",
    "\n",
    "num_train_samples = 10000\n",
    "\n",
    "val_split = 0.2\n",
    "split = int(num_train_samples * val_split)\n",
    "indices = torch.randperm(num_train_samples)\n",
    "\n",
    "train_subset = torch.utils.data.Subset(train_data, indices[split:])\n",
    "val_subset = torch.utils.data.Subset(val_dataset, indices[:split])\n",
    "print('Total images in train dataset',len(train_subset))\n",
    "print('Total images in test dataset',len(val_subset))"
   ]
  },
  {
   "cell_type": "code",
   "execution_count": 14,
   "id": "06513707-86e1-4c77-aa2a-3ad5b6cea941",
   "metadata": {},
   "outputs": [],
   "source": [
    "batch_size = 5\n",
    "\n",
    "# subsetting data into different batches\n",
    "train_loader = DataLoader(train_subset,\n",
    "                          batch_size=batch_size,\n",
    "                          shuffle=True)\n",
    "\n",
    "test_loader = DataLoader(val_subset, \n",
    "                         batch_size=batch_size,\n",
    "                         shuffle=True)\n"
   ]
  },
  {
   "cell_type": "code",
   "execution_count": 15,
   "id": "c9561564-7147-41c2-b386-e9b0fb3e8adb",
   "metadata": {},
   "outputs": [],
   "source": [
    "# function to display images from tensors\n",
    "def imshow(img, title):\n",
    "    img = torchvision.utils.make_grid(img, normalize=True)\n",
    "    npimg = img.numpy()\n",
    "    fig = plt.figure(figsize = (5, 15))\n",
    "    plt.imshow(np.transpose(npimg,(1,2,0)))\n",
    "    plt.title(title)\n",
    "    plt.axis('off')\n",
    "    plt.show()"
   ]
  },
  {
   "cell_type": "code",
   "execution_count": 16,
   "id": "b8ace4ab-735b-47f9-9c0b-5df8965dfbc1",
   "metadata": {},
   "outputs": [
    {
     "data": {
      "image/png": "[encoded data removed]",
      "text/plain": [
       "<Figure size 360x1080 with 1 Axes>"
      ]
     },
     "metadata": {
      "needs_background": "light"
     },
     "output_type": "display_data"
    }
   ],
   "source": [
    "dataiter = iter(train_loader)\n",
    "images, labels = dataiter.next()\n",
    "\n",
    "imshow(images, [train_data.classes[i] for i in labels])"
   ]
  },
  {
   "cell_type": "code",
   "execution_count": 18,
   "id": "e404c5e1-db30-4ac9-ac01-67d6b7aed186",
   "metadata": {},
   "outputs": [],
   "source": [
    "# downloading the model\n",
    "model = models.inception_v3(pretrained=True)"
   ]
  },
  {
   "cell_type": "code",
   "execution_count": 19,
   "id": "0193fd67-1751-4d22-b71b-a732d4d53a24",
   "metadata": {},
   "outputs": [],
   "source": [
    "model.aux_logits = False\n",
    "\n",
    "for parameter in model.parameters():\n",
    "    parameter.requires_grad = False"
   ]
  },
  {
   "cell_type": "code",
   "execution_count": 20,
   "id": "425ad36a-4000-4c9d-bc9d-3c422deebe14",
   "metadata": {},
   "outputs": [],
   "source": [
    "# re-defining the fc layer for the model\n",
    "classes = train_dataloader.dataset.dataset.classes\n",
    "model.fc = nn.Linear(model.fc.in_features, len(classes))"
   ]
  },
  {
   "cell_type": "code",
   "execution_count": 21,
   "id": "1c5f6426-899a-46df-b946-8b7ac2f61fa3",
   "metadata": {},
   "outputs": [],
   "source": [
    "# calling DataParallel class on the model\n",
    "model = model.cuda()\n",
    "model= nn.DataParallel(model)"
   ]
  },
  {
   "cell_type": "code",
   "execution_count": 22,
   "id": "1908d96b-7734-4dcf-8eb5-05e2c3439c71",
   "metadata": {},
   "outputs": [],
   "source": [
    "loss = nn.CrossEntropyLoss()\n",
    "optimizer = torch.optim.RMSprop(filter(lambda p: p.requires_grad, model.parameters()), lr=0.001)"
   ]
  },
  {
   "cell_type": "code",
   "execution_count": 23,
   "id": "72a667fe-b946-417e-98dd-cd8ab5cb3b8a",
   "metadata": {},
   "outputs": [],
   "source": [
    "num_epochs = 10"
   ]
  },
  {
   "cell_type": "code",
   "execution_count": 24,
   "id": "afc44f84-095a-461b-b2a2-68425de9f75c",
   "metadata": {},
   "outputs": [
    {
     "name": "stdout",
     "output_type": "stream",
     "text": [
      "Epoch [1/10], lter [500/17400] Loss: 0.8831\n",
      "Epoch [1/10], lter [1000/17400] Loss: 0.2641\n",
      "Epoch [1/10], lter [1500/17400] Loss: 0.4767\n",
      "Epoch [2/10], lter [500/17400] Loss: 1.4074\n",
      "Epoch [2/10], lter [1000/17400] Loss: 2.0947\n",
      "Epoch [2/10], lter [1500/17400] Loss: 0.3688\n",
      "Epoch [3/10], lter [500/17400] Loss: 1.7526\n",
      "Epoch [3/10], lter [1000/17400] Loss: 0.3840\n",
      "Epoch [3/10], lter [1500/17400] Loss: 0.6018\n",
      "Epoch [4/10], lter [500/17400] Loss: 0.5714\n",
      "Epoch [4/10], lter [1000/17400] Loss: 0.6862\n",
      "Epoch [4/10], lter [1500/17400] Loss: 1.1049\n",
      "Epoch [5/10], lter [500/17400] Loss: 0.5548\n",
      "Epoch [5/10], lter [1000/17400] Loss: 0.4199\n",
      "Epoch [5/10], lter [1500/17400] Loss: 0.9342\n",
      "Epoch [6/10], lter [500/17400] Loss: 0.3516\n",
      "Epoch [6/10], lter [1000/17400] Loss: 0.5437\n",
      "Epoch [6/10], lter [1500/17400] Loss: 2.0357\n",
      "Epoch [7/10], lter [500/17400] Loss: 0.3163\n",
      "Epoch [7/10], lter [1000/17400] Loss: 0.8092\n",
      "Epoch [7/10], lter [1500/17400] Loss: 1.1498\n",
      "Epoch [8/10], lter [500/17400] Loss: 0.8146\n",
      "Epoch [8/10], lter [1000/17400] Loss: 0.3290\n",
      "Epoch [8/10], lter [1500/17400] Loss: 0.3164\n",
      "Epoch [9/10], lter [500/17400] Loss: 0.1238\n",
      "Epoch [9/10], lter [1000/17400] Loss: 0.5279\n",
      "Epoch [9/10], lter [1500/17400] Loss: 0.1220\n",
      "Epoch [10/10], lter [500/17400] Loss: 0.5109\n",
      "Epoch [10/10], lter [1000/17400] Loss: 0.2515\n",
      "Epoch [10/10], lter [1500/17400] Loss: 1.4782\n",
      "Time Taken  484.7503709793091\n"
     ]
    }
   ],
   "source": [
    "# training the model and capturing start and end time\n",
    "start=time()\n",
    "for epoch in range(num_epochs):\n",
    "    total_batch = len(train_data)//batch_size\n",
    "\n",
    "    for i, (batch_images, batch_labels) in enumerate(train_loader):\n",
    "        \n",
    "        X = batch_images.cuda()\n",
    "        Y = batch_labels.cuda()\n",
    "\n",
    "        pre = model(X)\n",
    "        cost = loss(pre, Y)\n",
    "\n",
    "        optimizer.zero_grad()\n",
    "        cost.backward()\n",
    "        optimizer.step()\n",
    "\n",
    "        if (i+1) % 500 == 0:\n",
    "            print('Epoch [%d/%d], lter [%d/%d] Loss: %.4f'\n",
    "                 %(epoch+1, num_epochs, i+1, total_batch, cost.item()))\n",
    "        \n",
    "print('Time Taken ',time()-start)"
   ]
  },
  {
   "cell_type": "code",
   "execution_count": 42,
   "id": "06666fe8-3b5b-42e5-ab99-1e66ce65ec53",
   "metadata": {},
   "outputs": [
    {
     "name": "stdout",
     "output_type": "stream",
     "text": [
      "Accuracy of test images: 89.450000 %\n"
     ]
    }
   ],
   "source": [
    "# evaluating model's performance\n",
    "# \n",
    "model.eval()\n",
    "\n",
    "correct = 0\n",
    "total = 0\n",
    "\n",
    "for images, labels in test_loader:\n",
    "    \n",
    "    images = images.cuda()\n",
    "    outputs = model(images)\n",
    "    \n",
    "    _, predicted = torch.max(outputs.data, 1)\n",
    "    \n",
    "    total += labels.size(0)\n",
    "    correct += (predicted == labels.cuda()).sum()\n",
    "    \n",
    "print('Accuracy of test images: %f %%' % (100 * float(correct) / total))"
   ]
  },
  {
   "cell_type": "code",
   "execution_count": null,
   "id": "b4f87bc9-8873-4f6e-9cae-26f3a8818c0e",
   "metadata": {},
   "outputs": [],
   "source": []
  }
 ],
 "metadata": {
  "kernelspec": {
   "display_name": "Python 3 (ipykernel)",
   "language": "python",
   "name": "python3"
  },
  "language_info": {
   "codemirror_mode": {
    "name": "ipython",
    "version": 3
   },
   "file_extension": ".py",
   "mimetype": "text/x-python",
   "name": "python",
   "nbconvert_exporter": "python",
   "pygments_lexer": "ipython3",
   "version": "3.10.6 (tags/v3.10.6:9c7b4bd, Aug  1 2022, 21:53:49) [MSC v.1932 64 bit (AMD64)]"
  },
  "vscode": {
   "interpreter": {
    "hash": "369f2c481f4da34e4445cda3fffd2e751bd1c4d706f27375911949ba6bb62e1c"
   }
  }
 },
 "nbformat": 4,
 "nbformat_minor": 5
}
